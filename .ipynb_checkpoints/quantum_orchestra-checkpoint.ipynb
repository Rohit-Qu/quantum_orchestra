{
 "cells": [
  {
   "cell_type": "code",
   "execution_count": 1,
   "metadata": {},
   "outputs": [
    {
     "data": {
      "application/vnd.jupyter.widget-view+json": {
       "model_id": "4244c16aa9cb4b12a9e2e70bf3676d2d",
       "version_major": 2,
       "version_minor": 0
      },
      "text/plain": [
       "Accordion(children=(VBox(layout=Layout(max_width='710px', min_width='710px')),), layout=Layout(max_height='500…"
      ]
     },
     "metadata": {},
     "output_type": "display_data"
    },
    {
     "data": {
      "application/javascript": [
       "$('div.job_widget')\n",
       "        .detach()\n",
       "        .appendTo($('#header'))\n",
       "        .css({\n",
       "            'z-index': 999,\n",
       "             'position': 'fixed',\n",
       "            'box-shadow': '5px 5px 5px -3px black',\n",
       "            'opacity': 0.95,\n",
       "            'float': 'left,'\n",
       "        })\n",
       "        "
      ],
      "text/plain": [
       "<IPython.core.display.Javascript object>"
      ]
     },
     "metadata": {},
     "output_type": "display_data"
    }
   ],
   "source": [
    "from qiskit import QuantumCircuit, execute\n",
    "from qiskit import Aer\n",
    "from qiskit.visualization import plot_histogram\n",
    "from qiskit import IBMQ\n",
    "import qiskit.tools.jupyter\n",
    "%qiskit_job_watcher\n",
    "#start for the project"
   ]
  },
  {
   "cell_type": "code",
   "execution_count": 4,
   "metadata": {},
   "outputs": [],
   "source": [
    "#minimum user input will just be for them to fill out the create quantum circuit function inthe backend\n",
    "def CreateQuantumCircuit():\n",
    "    cct = QuantumCircuit(2,2)\n",
    "    cct.h(0)\n",
    "    cct.cx(0,1)\n",
    "    cct.barrier()\n",
    "    cct.measure([0,1],[0,1])\n",
    "    cct.draw(output=\"mpl\")\n",
    "    return cct"
   ]
  },
  {
   "cell_type": "code",
   "execution_count": 5,
   "metadata": {},
   "outputs": [
    {
     "data": {
      "text/html": [
       "<pre style=\"word-wrap: normal;white-space: pre;background: #fff0;line-height: 1.1;font-family: &quot;Courier New&quot;,Courier,monospace\">     ┌───┐      ░ ┌─┐   \n",
       "q_0: ┤ H ├──■───░─┤M├───\n",
       "     └───┘┌─┴─┐ ░ └╥┘┌─┐\n",
       "q_1: ─────┤ X ├─░──╫─┤M├\n",
       "          └───┘ ░  ║ └╥┘\n",
       "c: 2/══════════════╩══╩═\n",
       "                   0  1 </pre>"
      ],
      "text/plain": [
       "     ┌───┐      ░ ┌─┐   \n",
       "q_0: ┤ H ├──■───░─┤M├───\n",
       "     └───┘┌─┴─┐ ░ └╥┘┌─┐\n",
       "q_1: ─────┤ X ├─░──╫─┤M├\n",
       "          └───┘ ░  ║ └╥┘\n",
       "c: 2/══════════════╩══╩═\n",
       "                   0  1 "
      ]
     },
     "execution_count": 5,
     "metadata": {},
     "output_type": "execute_result"
    }
   ],
   "source": [
    "cct = CreateQuantumCircuit()\n",
    "ct.draw()"
   ]
  },
  {
   "cell_type": "code",
   "execution_count": null,
   "metadata": {},
   "outputs": [],
   "source": []
  }
 ],
 "metadata": {
  "kernelspec": {
   "display_name": "Python 3",
   "language": "python",
   "name": "python3"
  },
  "language_info": {
   "codemirror_mode": {
    "name": "ipython",
    "version": 3
   },
   "file_extension": ".py",
   "mimetype": "text/x-python",
   "name": "python",
   "nbconvert_exporter": "python",
   "pygments_lexer": "ipython3",
   "version": "3.8.6"
  }
 },
 "nbformat": 4,
 "nbformat_minor": 4
}
